{
 "cells": [
  {
   "cell_type": "markdown",
   "metadata": {},
   "source": [
    "# Image Data Cleaning: Rotation Sorting Code\n",
    "\n",
    "## Introduction & Objectives <a name=\"intro\"></a>\n",
    "\n",
    "The purpose of this notebook was twofold:\n",
    "\n",
    "1. Sort through a directory composed of several files containing Google Street View (GSV) images for a given city.\n",
    "\n",
    "2. Identify and delete images with rotation components that are deemed undesirable by the project.\n",
    "\n",
    "This process was specific to our project and may therefore not be applicable to other contexts. \n",
    "\n",
    "The folder structure was the following:\n",
    "\n",
    "`City_A\n",
    "    File_1.zip\n",
    "        lattitude_longitude_verticalrotation_horizontalrotation.jpg\n",
    "        lattitude_longitude_verticalrotation_horizontalrotation.jpg\n",
    "        lattitude_longitude_verticalrotation_horizontalrotation.jpg\n",
    "        ...\n",
    "    File_2.zip\n",
    "        lattitude_longitude_verticalrotation_horizontalrotation.jpg\n",
    "        lattitude_longitude_verticalrotation_horizontalrotation.jpg\n",
    "        lattitude_longitude_verticalrotation_horizontalrotation.jpg\n",
    "        ...\n",
    "    File_3.zip\n",
    "        lattitude_longitude_verticalrotation_horizontalrotation.jpg\n",
    "        lattitude_longitude_verticalrotation_horizontalrotation.jpg\n",
    "        lattitude_longitude_verticalrotation_horizontalrotation.jpg\n",
    "        ...\n",
    "    ...`\n",
    "\n",
    "The workflow is as follows:\n",
    "\n",
    "1. [Getting Set-Up](#sec1)\n",
    "2. [Deleting Undesirable Images](#sec2)\n",
    "\n",
    "## Getting Set-Up <a name=\"sec1\"></a>\n",
    "\n",
    "Set the vertical rotations that you would like to keep among all GSV images. Rotations should be set as pairs of verticle and horizontal rotations within the list called `rotation_pairs` using the following syntax: `(vetical rotation, horizontal rotation)`."
   ]
  },
  {
   "cell_type": "code",
   "execution_count": 19,
   "metadata": {},
   "outputs": [],
   "source": [
    "# Import libraries\n",
    "import zipfile, os, glob\n",
    "import pandas as pd\n",
    "import geopy.distance\n",
    "import shutil\n",
    "\n",
    "# Set working directory\n",
    "working_directory = '/Users/lucamartial/Desktop/Cambridge Practicum/CV Project/Image exploration/Round 1'\n",
    "os.chdir(working_directory)\n",
    "\n",
    "# Choosing pairs of vertical and horizontal rotations to keep\n",
    "rotation_pairs = [(90,0), (270,0)]\n",
    "\n",
    "# Creating list of rotations to keep in format readable by os\n",
    "rotations = []\n",
    "for i in rotation_pairs:\n",
    "    rotations.append('_'.join(map(str, i)) + '.jpg')\n",
    "    \n",
    "# Converting list to tuple for os processing\n",
    "rotations = tuple(rotations)"
   ]
  },
  {
   "cell_type": "markdown",
   "metadata": {},
   "source": [
    "## Deleting Undesirable Images <a name=\"sec2\"></a>\n",
    "\n",
    "Once all archived files containing GSV images for a city have been downloaded and unzipped, run the following code to delete all rotations that are deemed undesirable:"
   ]
  },
  {
   "cell_type": "code",
   "execution_count": 21,
   "metadata": {},
   "outputs": [],
   "source": [
    "# Walk current directory\n",
    "for (root, dirs, files) in os.walk(working_directory):\n",
    "  for name in files:\n",
    "    if not(name.endswith(rotations)): # If image name does not end with rotations to keep, delete image\n",
    "      os.remove(os.path.join(root, name))"
   ]
  }
 ],
 "metadata": {
  "kernelspec": {
   "display_name": "Python 3",
   "language": "python",
   "name": "python3"
  },
  "language_info": {
   "codemirror_mode": {
    "name": "ipython",
    "version": 3
   },
   "file_extension": ".py",
   "mimetype": "text/x-python",
   "name": "python",
   "nbconvert_exporter": "python",
   "pygments_lexer": "ipython3",
   "version": "3.7.4"
  }
 },
 "nbformat": 4,
 "nbformat_minor": 2
}
