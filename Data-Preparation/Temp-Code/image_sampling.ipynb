{
 "cells": [
  {
   "cell_type": "code",
   "execution_count": null,
   "metadata": {},
   "outputs": [],
   "source": [
    "import pandas as pd\n",
    "import geopy.distance\n",
    "import os\n",
    "from os import path\n",
    "import shutil"
   ]
  },
  {
   "cell_type": "markdown",
   "metadata": {},
   "source": [
    "## Data processing"
   ]
  },
  {
   "cell_type": "code",
   "execution_count": null,
   "metadata": {},
   "outputs": [],
   "source": [
    "# read in city csv file\n",
    "city = pd.read_csv('Paris.csv')"
   ]
  },
  {
   "cell_type": "code",
   "execution_count": null,
   "metadata": {
    "scrolled": true
   },
   "outputs": [],
   "source": [
    "# drop first columns\n",
    "city.drop(city.iloc[:, 0:2], inplace=True, axis=1)\n",
    "\n",
    "# drop date/time\n",
    "del city['V2']\n",
    "del city['V3']"
   ]
  },
  {
   "cell_type": "code",
   "execution_count": null,
   "metadata": {},
   "outputs": [],
   "source": [
    "# add lat and lon columns to df\n",
    "city['lat'] = city.V4.str.split(\"_\", expand=True)[0]\n",
    "city['lon'] = city.V4.str.split(\"_\", expand=True)[1]"
   ]
  },
  {
   "cell_type": "code",
   "execution_count": null,
   "metadata": {},
   "outputs": [],
   "source": [
    "city.head()"
   ]
  },
  {
   "cell_type": "markdown",
   "metadata": {},
   "source": [
    "## Sampling\n",
    "\n",
    "Add remove out of bounds directly in sampling code (too long of a preprocessing step)"
   ]
  },
  {
   "cell_type": "code",
   "execution_count": null,
   "metadata": {},
   "outputs": [],
   "source": [
    "center_pt = (48.864716, 2.349014)\n",
    "radius = 12.8941761"
   ]
  },
  {
   "cell_type": "code",
   "execution_count": null,
   "metadata": {},
   "outputs": [],
   "source": [
    "df = city.sample(n = 1)\n",
    "sam = city.sample(n = 1)\n",
    "\n",
    "for i in range(10-1):\n",
    "    while not ((df.apply(lambda row: geopy.distance.distance((float(row.lat), float(row.lon)), (float(sam.lat), float(sam.lon))).km > 0.1, axis=1).all()) and (geopy.distance.distance(center_pt, (float(sam.lat), float(sam.lon))).km < radius)):\n",
    "        sam = city.sample(n = 1)\n",
    "    else:\n",
    "        df = pd.concat([df, sam])"
   ]
  },
  {
   "cell_type": "code",
   "execution_count": null,
   "metadata": {
    "scrolled": true
   },
   "outputs": [],
   "source": [
    "df.head()"
   ]
  },
  {
   "cell_type": "markdown",
   "metadata": {},
   "source": [
    "## Creating list of image names to extract "
   ]
  },
  {
   "cell_type": "code",
   "execution_count": null,
   "metadata": {},
   "outputs": [],
   "source": [
    "# creating copy for extraction purposes\n",
    "extr = df\n",
    "\n",
    "# creating file paths for extraction\n",
    "extr['rot1'] = extr.V1.astype(str) + '/' + extr.lat.astype(str) + '_' + extr.lon.astype(str) + '_0_0.jpg'\n",
    "extr['rot2'] = extr.V1.astype(str) + '/' + extr.lat.astype(str) + '_' + extr.lon.astype(str) + '_90_0.jpg'\n",
    "extr['rot3'] = extr.V1.astype(str) + '/' + extr.lat.astype(str) + '_' + extr.lon.astype(str) + '_180_0.jpg'\n",
    "extr['rot4'] = extr.V1.astype(str) + '/' + extr.lat.astype(str) + '_' + extr.lon.astype(str) + '_270_0.jpg'"
   ]
  },
  {
   "cell_type": "code",
   "execution_count": null,
   "metadata": {},
   "outputs": [],
   "source": [
    "extr.head()"
   ]
  },
  {
   "cell_type": "code",
   "execution_count": null,
   "metadata": {},
   "outputs": [],
   "source": [
    "# converting filenames to list\n",
    "files = extr.iloc[:, -4:].values.T.ravel().tolist()"
   ]
  },
  {
   "cell_type": "markdown",
   "metadata": {},
   "source": [
    "## Copying sampled images to specific folder"
   ]
  },
  {
   "cell_type": "code",
   "execution_count": null,
   "metadata": {},
   "outputs": [],
   "source": [
    "src = \"/User/GSV/Paris/\"\n",
    "dst = \"/User/GSV/ModelTrain/\""
   ]
  },
  {
   "cell_type": "code",
   "execution_count": null,
   "metadata": {},
   "outputs": [],
   "source": [
    "for f in files:\n",
    "    shutil.copy(path.join(src, f), dst)"
   ]
  }
 ],
 "metadata": {
  "kernelspec": {
   "display_name": "Python 3",
   "language": "python",
   "name": "python3"
  },
  "language_info": {
   "codemirror_mode": {
    "name": "ipython",
    "version": 3
   },
   "file_extension": ".py",
   "mimetype": "text/x-python",
   "name": "python",
   "nbconvert_exporter": "python",
   "pygments_lexer": "ipython3",
   "version": "3.7.4"
  }
 },
 "nbformat": 4,
 "nbformat_minor": 2
}
