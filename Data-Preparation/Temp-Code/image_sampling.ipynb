{
 "cells": [
  {
   "cell_type": "code",
   "execution_count": 1,
   "metadata": {},
   "outputs": [],
   "source": [
    "import pandas as pd\n",
    "import geopy.distance"
   ]
  },
  {
   "cell_type": "code",
   "execution_count": 2,
   "metadata": {},
   "outputs": [],
   "source": [
    "city = pd.read_csv('Paris.csv')"
   ]
  },
  {
   "cell_type": "code",
   "execution_count": 3,
   "metadata": {},
   "outputs": [
    {
     "data": {
      "text/html": [
       "<div>\n",
       "<style scoped>\n",
       "    .dataframe tbody tr th:only-of-type {\n",
       "        vertical-align: middle;\n",
       "    }\n",
       "\n",
       "    .dataframe tbody tr th {\n",
       "        vertical-align: top;\n",
       "    }\n",
       "\n",
       "    .dataframe thead th {\n",
       "        text-align: right;\n",
       "    }\n",
       "</style>\n",
       "<table border=\"1\" class=\"dataframe\">\n",
       "  <thead>\n",
       "    <tr style=\"text-align: right;\">\n",
       "      <th></th>\n",
       "      <th>Unnamed: 0</th>\n",
       "      <th>FileName</th>\n",
       "      <th>V1</th>\n",
       "      <th>V2</th>\n",
       "      <th>V3</th>\n",
       "      <th>V4</th>\n",
       "    </tr>\n",
       "  </thead>\n",
       "  <tbody>\n",
       "    <tr>\n",
       "      <td>0</td>\n",
       "      <td>1</td>\n",
       "      <td>/Users/lucamartial/Working Directory/Paris/662...</td>\n",
       "      <td>28526</td>\n",
       "      <td>04-25-2018</td>\n",
       "      <td>14:11</td>\n",
       "      <td>48.9503188807609_2.0679242344190243_180_0.jpg</td>\n",
       "    </tr>\n",
       "    <tr>\n",
       "      <td>1</td>\n",
       "      <td>2</td>\n",
       "      <td>/Users/lucamartial/Working Directory/Paris/662...</td>\n",
       "      <td>32843</td>\n",
       "      <td>04-25-2018</td>\n",
       "      <td>14:11</td>\n",
       "      <td>48.95115437952288_2.0663042176388444_270_0.jpg</td>\n",
       "    </tr>\n",
       "    <tr>\n",
       "      <td>2</td>\n",
       "      <td>3</td>\n",
       "      <td>/Users/lucamartial/Working Directory/Paris/662...</td>\n",
       "      <td>13724</td>\n",
       "      <td>04-25-2018</td>\n",
       "      <td>14:11</td>\n",
       "      <td>48.95138626484626_2.065878108753509_0_90.jpg</td>\n",
       "    </tr>\n",
       "    <tr>\n",
       "      <td>3</td>\n",
       "      <td>4</td>\n",
       "      <td>/Users/lucamartial/Working Directory/Paris/662...</td>\n",
       "      <td>32109</td>\n",
       "      <td>04-25-2018</td>\n",
       "      <td>14:11</td>\n",
       "      <td>48.95036067749351_2.0654597799770045_0_270.jpg</td>\n",
       "    </tr>\n",
       "    <tr>\n",
       "      <td>4</td>\n",
       "      <td>5</td>\n",
       "      <td>/Users/lucamartial/Working Directory/Paris/662...</td>\n",
       "      <td>11731</td>\n",
       "      <td>04-25-2018</td>\n",
       "      <td>14:11</td>\n",
       "      <td>48.95066072080098_2.0682293214905485_0_90.jpg</td>\n",
       "    </tr>\n",
       "  </tbody>\n",
       "</table>\n",
       "</div>"
      ],
      "text/plain": [
       "   Unnamed: 0                                           FileName     V1  \\\n",
       "0           1  /Users/lucamartial/Working Directory/Paris/662...  28526   \n",
       "1           2  /Users/lucamartial/Working Directory/Paris/662...  32843   \n",
       "2           3  /Users/lucamartial/Working Directory/Paris/662...  13724   \n",
       "3           4  /Users/lucamartial/Working Directory/Paris/662...  32109   \n",
       "4           5  /Users/lucamartial/Working Directory/Paris/662...  11731   \n",
       "\n",
       "           V2     V3                                              V4  \n",
       "0  04-25-2018  14:11   48.9503188807609_2.0679242344190243_180_0.jpg  \n",
       "1  04-25-2018  14:11  48.95115437952288_2.0663042176388444_270_0.jpg  \n",
       "2  04-25-2018  14:11    48.95138626484626_2.065878108753509_0_90.jpg  \n",
       "3  04-25-2018  14:11  48.95036067749351_2.0654597799770045_0_270.jpg  \n",
       "4  04-25-2018  14:11   48.95066072080098_2.0682293214905485_0_90.jpg  "
      ]
     },
     "execution_count": 3,
     "metadata": {},
     "output_type": "execute_result"
    }
   ],
   "source": [
    "city.head()"
   ]
  },
  {
   "cell_type": "code",
   "execution_count": 4,
   "metadata": {
    "scrolled": true
   },
   "outputs": [],
   "source": [
    "city.drop(city.iloc[:, 0:2], inplace=True, axis=1)"
   ]
  },
  {
   "cell_type": "markdown",
   "metadata": {},
   "source": [
    "Using example for the first 2 lat/long pairs to sample out of 2000 (named \"A\" and \"B\"):\n",
    "\n",
    "1. open csv file with all lat/long pairs available for a particular city\n",
    "2. sample 1 random lat/long pair \"A\" from csv, extract into list \"X\"\n",
    "3. sample 1 random lat/long pair \"B\" from csv\n",
    "4. iterate through list \"X\" of extracted lat/long pairs\n",
    "5. check if lat/long pair \"B\" is more than 100meters away from lat/long pairs in list \"X\"\n",
    "6. if yes, add lat/long pair \"B\" to list \"X\"\n",
    "7. repeat until 2000 lat/long pairs are extracted into list \"X\""
   ]
  },
  {
   "cell_type": "code",
   "execution_count": 5,
   "metadata": {},
   "outputs": [],
   "source": [
    "# sampling 1 row\n",
    "row1 = city.sample(n = 1)"
   ]
  },
  {
   "cell_type": "code",
   "execution_count": 6,
   "metadata": {
    "scrolled": false
   },
   "outputs": [
    {
     "data": {
      "text/html": [
       "<div>\n",
       "<style scoped>\n",
       "    .dataframe tbody tr th:only-of-type {\n",
       "        vertical-align: middle;\n",
       "    }\n",
       "\n",
       "    .dataframe tbody tr th {\n",
       "        vertical-align: top;\n",
       "    }\n",
       "\n",
       "    .dataframe thead th {\n",
       "        text-align: right;\n",
       "    }\n",
       "</style>\n",
       "<table border=\"1\" class=\"dataframe\">\n",
       "  <thead>\n",
       "    <tr style=\"text-align: right;\">\n",
       "      <th></th>\n",
       "      <th>V1</th>\n",
       "      <th>V2</th>\n",
       "      <th>V3</th>\n",
       "      <th>V4</th>\n",
       "    </tr>\n",
       "  </thead>\n",
       "  <tbody>\n",
       "    <tr>\n",
       "      <td>3063988</td>\n",
       "      <td>28518</td>\n",
       "      <td>04-17-2018</td>\n",
       "      <td>16:34</td>\n",
       "      <td>48.80554665829646_2.4746402146209903_0_270.jpg</td>\n",
       "    </tr>\n",
       "  </tbody>\n",
       "</table>\n",
       "</div>"
      ],
      "text/plain": [
       "            V1          V2     V3  \\\n",
       "3063988  28518  04-17-2018  16:34   \n",
       "\n",
       "                                                     V4  \n",
       "3063988  48.80554665829646_2.4746402146209903_0_270.jpg  "
      ]
     },
     "execution_count": 6,
     "metadata": {},
     "output_type": "execute_result"
    }
   ],
   "source": [
    "row1"
   ]
  },
  {
   "cell_type": "code",
   "execution_count": 8,
   "metadata": {
    "scrolled": false
   },
   "outputs": [
    {
     "data": {
      "text/plain": [
       "3063988    48.80554665829646\n",
       "Name: 0, dtype: object"
      ]
     },
     "execution_count": 8,
     "metadata": {},
     "output_type": "execute_result"
    }
   ],
   "source": [
    "# lat\n",
    "row1.V4.str.split(\"_\", expand=True)[0]"
   ]
  },
  {
   "cell_type": "code",
   "execution_count": 9,
   "metadata": {},
   "outputs": [
    {
     "data": {
      "text/plain": [
       "3063988    2.4746402146209903\n",
       "Name: 1, dtype: object"
      ]
     },
     "execution_count": 9,
     "metadata": {},
     "output_type": "execute_result"
    }
   ],
   "source": [
    "# lon\n",
    "row1.V4.str.split(\"_\", expand=True)[1]"
   ]
  },
  {
   "cell_type": "code",
   "execution_count": 45,
   "metadata": {},
   "outputs": [],
   "source": [
    "# loop\n",
    "df = row1\n",
    "for i in range(100): \n",
    "    sam = city.sample(n = 1)\n",
    "    if geopy.distance.distance((float(row1.V4.str.split(\"_\", expand=True)[0]), float(row1.V4.str.split(\"_\", expand=True)[1])), (float(sam.V4.str.split(\"_\", expand=True)[0]), float(sam.V4.str.split(\"_\", expand=True)[1]))).km > 0.1:\n",
    "        df = pd.concat([df, sam])\n",
    "    else:\n",
    "        i -= 1\n",
    "        continue"
   ]
  },
  {
   "cell_type": "code",
   "execution_count": 46,
   "metadata": {},
   "outputs": [
    {
     "data": {
      "text/html": [
       "<div>\n",
       "<style scoped>\n",
       "    .dataframe tbody tr th:only-of-type {\n",
       "        vertical-align: middle;\n",
       "    }\n",
       "\n",
       "    .dataframe tbody tr th {\n",
       "        vertical-align: top;\n",
       "    }\n",
       "\n",
       "    .dataframe thead th {\n",
       "        text-align: right;\n",
       "    }\n",
       "</style>\n",
       "<table border=\"1\" class=\"dataframe\">\n",
       "  <thead>\n",
       "    <tr style=\"text-align: right;\">\n",
       "      <th></th>\n",
       "      <th>V1</th>\n",
       "      <th>V2</th>\n",
       "      <th>V3</th>\n",
       "      <th>V4</th>\n",
       "    </tr>\n",
       "  </thead>\n",
       "  <tbody>\n",
       "    <tr>\n",
       "      <td>3063988</td>\n",
       "      <td>28518</td>\n",
       "      <td>04-17-2018</td>\n",
       "      <td>16:34</td>\n",
       "      <td>48.80554665829646_2.4746402146209903_0_270.jpg</td>\n",
       "    </tr>\n",
       "    <tr>\n",
       "      <td>2333791</td>\n",
       "      <td>32046</td>\n",
       "      <td>04-18-2018</td>\n",
       "      <td>13:39</td>\n",
       "      <td>48.76321987523051_2.4447093533838142_180_0.jpg</td>\n",
       "    </tr>\n",
       "    <tr>\n",
       "      <td>3061712</td>\n",
       "      <td>45127</td>\n",
       "      <td>04-17-2018</td>\n",
       "      <td>16:35</td>\n",
       "      <td>48.81401635523035_2.476915501199869_0_0.jpg</td>\n",
       "    </tr>\n",
       "    <tr>\n",
       "      <td>5615639</td>\n",
       "      <td>24761</td>\n",
       "      <td>04-16-2018</td>\n",
       "      <td>13:46</td>\n",
       "      <td>48.83074943637107_2.608096098458873_90_0.jpg</td>\n",
       "    </tr>\n",
       "    <tr>\n",
       "      <td>4843552</td>\n",
       "      <td>20843</td>\n",
       "      <td>04-16-2018</td>\n",
       "      <td>18:05</td>\n",
       "      <td>48.75470896929722_2.554795981771349_0_270.jpg</td>\n",
       "    </tr>\n",
       "    <tr>\n",
       "      <td>...</td>\n",
       "      <td>...</td>\n",
       "      <td>...</td>\n",
       "      <td>...</td>\n",
       "      <td>...</td>\n",
       "    </tr>\n",
       "    <tr>\n",
       "      <td>4611038</td>\n",
       "      <td>44828</td>\n",
       "      <td>04-16-2018</td>\n",
       "      <td>19:07</td>\n",
       "      <td>48.96224474380376_2.5446895226517654_180_0.jpg</td>\n",
       "    </tr>\n",
       "    <tr>\n",
       "      <td>283289</td>\n",
       "      <td>19732</td>\n",
       "      <td>04-25-2018</td>\n",
       "      <td>11:59</td>\n",
       "      <td>48.88881107587414_2.0897449025728747_0_270.jpg</td>\n",
       "    </tr>\n",
       "    <tr>\n",
       "      <td>3062348</td>\n",
       "      <td>67435</td>\n",
       "      <td>04-17-2018</td>\n",
       "      <td>16:34</td>\n",
       "      <td>48.8115958942964_2.476291282507418_0_0.jpg</td>\n",
       "    </tr>\n",
       "    <tr>\n",
       "      <td>3830650</td>\n",
       "      <td>44280</td>\n",
       "      <td>04-17-2018</td>\n",
       "      <td>12:50</td>\n",
       "      <td>48.87808759964057_2.509409681636953_90_0.jpg</td>\n",
       "    </tr>\n",
       "    <tr>\n",
       "      <td>795272</td>\n",
       "      <td>35899</td>\n",
       "      <td>04-24-2018</td>\n",
       "      <td>18:53</td>\n",
       "      <td>48.8393002428877_2.1383467524318576_180_0.jpg</td>\n",
       "    </tr>\n",
       "  </tbody>\n",
       "</table>\n",
       "<p>101 rows × 4 columns</p>\n",
       "</div>"
      ],
      "text/plain": [
       "            V1          V2     V3  \\\n",
       "3063988  28518  04-17-2018  16:34   \n",
       "2333791  32046  04-18-2018  13:39   \n",
       "3061712  45127  04-17-2018  16:35   \n",
       "5615639  24761  04-16-2018  13:46   \n",
       "4843552  20843  04-16-2018  18:05   \n",
       "...        ...         ...    ...   \n",
       "4611038  44828  04-16-2018  19:07   \n",
       "283289   19732  04-25-2018  11:59   \n",
       "3062348  67435  04-17-2018  16:34   \n",
       "3830650  44280  04-17-2018  12:50   \n",
       "795272   35899  04-24-2018  18:53   \n",
       "\n",
       "                                                     V4  \n",
       "3063988  48.80554665829646_2.4746402146209903_0_270.jpg  \n",
       "2333791  48.76321987523051_2.4447093533838142_180_0.jpg  \n",
       "3061712     48.81401635523035_2.476915501199869_0_0.jpg  \n",
       "5615639    48.83074943637107_2.608096098458873_90_0.jpg  \n",
       "4843552   48.75470896929722_2.554795981771349_0_270.jpg  \n",
       "...                                                 ...  \n",
       "4611038  48.96224474380376_2.5446895226517654_180_0.jpg  \n",
       "283289   48.88881107587414_2.0897449025728747_0_270.jpg  \n",
       "3062348      48.8115958942964_2.476291282507418_0_0.jpg  \n",
       "3830650    48.87808759964057_2.509409681636953_90_0.jpg  \n",
       "795272    48.8393002428877_2.1383467524318576_180_0.jpg  \n",
       "\n",
       "[101 rows x 4 columns]"
      ]
     },
     "execution_count": 46,
     "metadata": {},
     "output_type": "execute_result"
    }
   ],
   "source": [
    "# prints 1 extra row than range because we start off with row1 already in the df\n",
    "df"
   ]
  }
 ],
 "metadata": {
  "kernelspec": {
   "display_name": "Python 3",
   "language": "python",
   "name": "python3"
  },
  "language_info": {
   "codemirror_mode": {
    "name": "ipython",
    "version": 3
   },
   "file_extension": ".py",
   "mimetype": "text/x-python",
   "name": "python",
   "nbconvert_exporter": "python",
   "pygments_lexer": "ipython3",
   "version": "3.7.4"
  }
 },
 "nbformat": 4,
 "nbformat_minor": 2
}
