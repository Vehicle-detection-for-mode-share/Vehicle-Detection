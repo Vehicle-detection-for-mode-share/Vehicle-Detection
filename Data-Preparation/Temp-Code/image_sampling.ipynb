{
 "cells": [
  {
   "cell_type": "code",
   "execution_count": 1,
   "metadata": {},
   "outputs": [],
   "source": [
    "import pandas as pd\n",
    "import geopy.distance\n",
    "import numpy as np"
   ]
  },
  {
   "cell_type": "markdown",
   "metadata": {},
   "source": [
    "## Data processing"
   ]
  },
  {
   "cell_type": "code",
   "execution_count": 2,
   "metadata": {},
   "outputs": [],
   "source": [
    "# read in city csv file\n",
    "city = pd.read_csv('Rome.csv')"
   ]
  },
  {
   "cell_type": "code",
   "execution_count": 3,
   "metadata": {},
   "outputs": [
    {
     "data": {
      "text/html": [
       "<div>\n",
       "<style scoped>\n",
       "    .dataframe tbody tr th:only-of-type {\n",
       "        vertical-align: middle;\n",
       "    }\n",
       "\n",
       "    .dataframe tbody tr th {\n",
       "        vertical-align: top;\n",
       "    }\n",
       "\n",
       "    .dataframe thead th {\n",
       "        text-align: right;\n",
       "    }\n",
       "</style>\n",
       "<table border=\"1\" class=\"dataframe\">\n",
       "  <thead>\n",
       "    <tr style=\"text-align: right;\">\n",
       "      <th></th>\n",
       "      <th>FileName</th>\n",
       "      <th>V1</th>\n",
       "      <th>V2</th>\n",
       "      <th>V3</th>\n",
       "      <th>V4</th>\n",
       "    </tr>\n",
       "  </thead>\n",
       "  <tbody>\n",
       "    <tr>\n",
       "      <td>0</td>\n",
       "      <td>/Users/lucamartial/Desktop/Working Directory/R...</td>\n",
       "      <td>26132</td>\n",
       "      <td>04-07-2018</td>\n",
       "      <td>13:27</td>\n",
       "      <td>42.05370903024502_12.32225280795683_180_0.jpg</td>\n",
       "    </tr>\n",
       "    <tr>\n",
       "      <td>1</td>\n",
       "      <td>/Users/lucamartial/Desktop/Working Directory/R...</td>\n",
       "      <td>30284</td>\n",
       "      <td>04-07-2018</td>\n",
       "      <td>13:27</td>\n",
       "      <td>42.05441054171563_12.322332510055844_0_0.jpg</td>\n",
       "    </tr>\n",
       "    <tr>\n",
       "      <td>2</td>\n",
       "      <td>/Users/lucamartial/Desktop/Working Directory/R...</td>\n",
       "      <td>33890</td>\n",
       "      <td>04-07-2018</td>\n",
       "      <td>13:27</td>\n",
       "      <td>42.05483504313715_12.322384931898227_270_0.jpg</td>\n",
       "    </tr>\n",
       "    <tr>\n",
       "      <td>3</td>\n",
       "      <td>/Users/lucamartial/Desktop/Working Directory/R...</td>\n",
       "      <td>34095</td>\n",
       "      <td>04-07-2018</td>\n",
       "      <td>13:27</td>\n",
       "      <td>42.05474925410415_12.322374516320565_270_0.jpg</td>\n",
       "    </tr>\n",
       "    <tr>\n",
       "      <td>4</td>\n",
       "      <td>/Users/lucamartial/Desktop/Working Directory/R...</td>\n",
       "      <td>25437</td>\n",
       "      <td>04-07-2018</td>\n",
       "      <td>13:27</td>\n",
       "      <td>42.05525654570083_12.32243452370517_0_90.jpg</td>\n",
       "    </tr>\n",
       "  </tbody>\n",
       "</table>\n",
       "</div>"
      ],
      "text/plain": [
       "                                            FileName     V1          V2  \\\n",
       "0  /Users/lucamartial/Desktop/Working Directory/R...  26132  04-07-2018   \n",
       "1  /Users/lucamartial/Desktop/Working Directory/R...  30284  04-07-2018   \n",
       "2  /Users/lucamartial/Desktop/Working Directory/R...  33890  04-07-2018   \n",
       "3  /Users/lucamartial/Desktop/Working Directory/R...  34095  04-07-2018   \n",
       "4  /Users/lucamartial/Desktop/Working Directory/R...  25437  04-07-2018   \n",
       "\n",
       "      V3                                              V4  \n",
       "0  13:27   42.05370903024502_12.32225280795683_180_0.jpg  \n",
       "1  13:27    42.05441054171563_12.322332510055844_0_0.jpg  \n",
       "2  13:27  42.05483504313715_12.322384931898227_270_0.jpg  \n",
       "3  13:27  42.05474925410415_12.322374516320565_270_0.jpg  \n",
       "4  13:27    42.05525654570083_12.32243452370517_0_90.jpg  "
      ]
     },
     "execution_count": 3,
     "metadata": {},
     "output_type": "execute_result"
    }
   ],
   "source": [
    "city.head()"
   ]
  },
  {
   "cell_type": "code",
   "execution_count": 4,
   "metadata": {
    "scrolled": true
   },
   "outputs": [],
   "source": [
    "# drop useless cols\n",
    "del city['V1']\n",
    "del city['V2']\n",
    "del city['V3']"
   ]
  },
  {
   "cell_type": "code",
   "execution_count": null,
   "metadata": {},
   "outputs": [],
   "source": [
    "# deleting artefacts\n",
    "city = city[~city.V4.str.contains(\"type_whatever_weird_strings_might_appear_when_sampling\")]"
   ]
  },
  {
   "cell_type": "code",
   "execution_count": 5,
   "metadata": {},
   "outputs": [],
   "source": [
    "# extract folder name\n",
    "city['folder'] = city.FileName.str.extract(r'(\\d+_\\d+)', expand = True)"
   ]
  },
  {
   "cell_type": "code",
   "execution_count": 6,
   "metadata": {},
   "outputs": [],
   "source": [
    "# extract lat and lon\n",
    "city['lat'] = city.V4.str.split(\"_\", expand=True)[0]\n",
    "city['lon'] = city.V4.str.split(\"_\", expand=True)[1]\n",
    "\n",
    "# groupby lat and lon\n",
    "city = city.groupby(['lat', 'lon']).first().reset_index()"
   ]
  },
  {
   "cell_type": "code",
   "execution_count": 7,
   "metadata": {},
   "outputs": [],
   "source": [
    "# drop useless cols\n",
    "del city['FileName']\n",
    "del city['V4']"
   ]
  },
  {
   "cell_type": "code",
   "execution_count": 8,
   "metadata": {},
   "outputs": [
    {
     "data": {
      "text/html": [
       "<div>\n",
       "<style scoped>\n",
       "    .dataframe tbody tr th:only-of-type {\n",
       "        vertical-align: middle;\n",
       "    }\n",
       "\n",
       "    .dataframe tbody tr th {\n",
       "        vertical-align: top;\n",
       "    }\n",
       "\n",
       "    .dataframe thead th {\n",
       "        text-align: right;\n",
       "    }\n",
       "</style>\n",
       "<table border=\"1\" class=\"dataframe\">\n",
       "  <thead>\n",
       "    <tr style=\"text-align: right;\">\n",
       "      <th></th>\n",
       "      <th>lat</th>\n",
       "      <th>lon</th>\n",
       "      <th>folder</th>\n",
       "    </tr>\n",
       "  </thead>\n",
       "  <tbody>\n",
       "    <tr>\n",
       "      <td>0</td>\n",
       "      <td>41.77701518306645</td>\n",
       "      <td>12.53624271569447</td>\n",
       "      <td>70100_48764</td>\n",
       "    </tr>\n",
       "    <tr>\n",
       "      <td>1</td>\n",
       "      <td>41.77702388687008</td>\n",
       "      <td>12.432588921336333</td>\n",
       "      <td>70062_48764</td>\n",
       "    </tr>\n",
       "    <tr>\n",
       "      <td>2</td>\n",
       "      <td>41.77703315390035</td>\n",
       "      <td>12.537899665233567</td>\n",
       "      <td>70100_48764</td>\n",
       "    </tr>\n",
       "    <tr>\n",
       "      <td>3</td>\n",
       "      <td>41.77703597494189</td>\n",
       "      <td>12.536126539880115</td>\n",
       "      <td>70100_48764</td>\n",
       "    </tr>\n",
       "    <tr>\n",
       "      <td>4</td>\n",
       "      <td>41.77705298968281</td>\n",
       "      <td>12.53801969028143</td>\n",
       "      <td>70100_48764</td>\n",
       "    </tr>\n",
       "  </tbody>\n",
       "</table>\n",
       "</div>"
      ],
      "text/plain": [
       "                 lat                 lon       folder\n",
       "0  41.77701518306645   12.53624271569447  70100_48764\n",
       "1  41.77702388687008  12.432588921336333  70062_48764\n",
       "2  41.77703315390035  12.537899665233567  70100_48764\n",
       "3  41.77703597494189  12.536126539880115  70100_48764\n",
       "4  41.77705298968281   12.53801969028143  70100_48764"
      ]
     },
     "execution_count": 8,
     "metadata": {},
     "output_type": "execute_result"
    }
   ],
   "source": [
    "city.head()"
   ]
  },
  {
   "cell_type": "code",
   "execution_count": 10,
   "metadata": {},
   "outputs": [],
   "source": [
    "# creating copy for sampling purposes\n",
    "citycop = city.copy()"
   ]
  },
  {
   "cell_type": "markdown",
   "metadata": {},
   "source": [
    "## Sampling"
   ]
  },
  {
   "cell_type": "code",
   "execution_count": 30,
   "metadata": {},
   "outputs": [],
   "source": [
    "# enter city info\n",
    "center_pt = (41.89, 12.48)\n",
    "radius = 8.7451556\n",
    "\n",
    "# enter required sample size\n",
    "sample_size = 2000"
   ]
  },
  {
   "cell_type": "code",
   "execution_count": 31,
   "metadata": {},
   "outputs": [],
   "source": [
    "# create sample 1 within boundaries\n",
    "df = citycop.sample(n = 1)\n",
    "while not geopy.distance.distance(center_pt, (float(df.lat), float(df.lon))).km < radius:\n",
    "    df = citycop.sample(n = 1)"
   ]
  },
  {
   "cell_type": "code",
   "execution_count": 32,
   "metadata": {},
   "outputs": [],
   "source": [
    "# sampling loop\n",
    "for i in range(sample_size-1):\n",
    "    # shuffle df\n",
    "    citycop = citycop.sample(frac=1)\n",
    "    # resample\n",
    "    sam = citycop.sample(n = 1)\n",
    "    # condition is for over 100 meters and within city boundaries\n",
    "    while not ((df.apply(lambda row: geopy.distance.distance((float(row.lat), float(row.lon)), (float(sam.lat), float(sam.lon))).km > 0.1, axis=1).all()) and (geopy.distance.distance(center_pt, (float(sam.lat), float(sam.lon))).km < radius)):\n",
    "        sam = citycop.sample(n = 1)\n",
    "    else:\n",
    "        df = pd.concat([df, sam])"
   ]
  },
  {
   "cell_type": "code",
   "execution_count": 33,
   "metadata": {
    "scrolled": true
   },
   "outputs": [
    {
     "data": {
      "text/html": [
       "<div>\n",
       "<style scoped>\n",
       "    .dataframe tbody tr th:only-of-type {\n",
       "        vertical-align: middle;\n",
       "    }\n",
       "\n",
       "    .dataframe tbody tr th {\n",
       "        vertical-align: top;\n",
       "    }\n",
       "\n",
       "    .dataframe thead th {\n",
       "        text-align: right;\n",
       "    }\n",
       "</style>\n",
       "<table border=\"1\" class=\"dataframe\">\n",
       "  <thead>\n",
       "    <tr style=\"text-align: right;\">\n",
       "      <th></th>\n",
       "      <th>lat</th>\n",
       "      <th>lon</th>\n",
       "      <th>folder</th>\n",
       "    </tr>\n",
       "  </thead>\n",
       "  <tbody>\n",
       "    <tr>\n",
       "      <td>426616</td>\n",
       "      <td>41.91223556641864</td>\n",
       "      <td>12.468976841845006</td>\n",
       "      <td>70075_48699</td>\n",
       "    </tr>\n",
       "    <tr>\n",
       "      <td>456842</td>\n",
       "      <td>41.91966668532343</td>\n",
       "      <td>12.471516234480077</td>\n",
       "      <td>70076_48695</td>\n",
       "    </tr>\n",
       "    <tr>\n",
       "      <td>525249</td>\n",
       "      <td>41.93958789524161</td>\n",
       "      <td>12.480835347570064</td>\n",
       "      <td>70080_48685</td>\n",
       "    </tr>\n",
       "    <tr>\n",
       "      <td>349020</td>\n",
       "      <td>41.89232346980918</td>\n",
       "      <td>12.55414365388117</td>\n",
       "      <td>70106_48708</td>\n",
       "    </tr>\n",
       "    <tr>\n",
       "      <td>439074</td>\n",
       "      <td>41.91525745061887</td>\n",
       "      <td>12.45454890110841</td>\n",
       "      <td>70070_48697</td>\n",
       "    </tr>\n",
       "  </tbody>\n",
       "</table>\n",
       "</div>"
      ],
      "text/plain": [
       "                      lat                 lon       folder\n",
       "426616  41.91223556641864  12.468976841845006  70075_48699\n",
       "456842  41.91966668532343  12.471516234480077  70076_48695\n",
       "525249  41.93958789524161  12.480835347570064  70080_48685\n",
       "349020  41.89232346980918   12.55414365388117  70106_48708\n",
       "439074  41.91525745061887   12.45454890110841  70070_48697"
      ]
     },
     "execution_count": 33,
     "metadata": {},
     "output_type": "execute_result"
    }
   ],
   "source": [
    "df.head()"
   ]
  },
  {
   "cell_type": "markdown",
   "metadata": {},
   "source": [
    "## Extracting list of lat/long pairs for plotting"
   ]
  },
  {
   "cell_type": "code",
   "execution_count": 34,
   "metadata": {},
   "outputs": [],
   "source": [
    "# export df of sampled locations to csv\n",
    "df.to_csv('rome_2000sampled_locations.csv', index=False)"
   ]
  },
  {
   "cell_type": "markdown",
   "metadata": {},
   "source": [
    "## Print list of folders to download from Mediaflux"
   ]
  },
  {
   "cell_type": "code",
   "execution_count": 35,
   "metadata": {
    "scrolled": true
   },
   "outputs": [],
   "source": [
    "# print sorted list of folders to download\n",
    "download = sorted(df.folder.unique().tolist())\n",
    "\n",
    "# convert to txt file\n",
    "np.savetxt('rome_2000folders.txt', download, delimiter=\"\\n\", fmt=\"%s\")"
   ]
  },
  {
   "cell_type": "markdown",
   "metadata": {},
   "source": [
    "## Creating list of image names to extract "
   ]
  },
  {
   "cell_type": "code",
   "execution_count": 36,
   "metadata": {},
   "outputs": [],
   "source": [
    "# creating copy for extraction purposes\n",
    "extr = df.copy()\n",
    "\n",
    "# creating file paths for extraction\n",
    "extr['rot1'] = extr.folder + '/' + extr.lat.astype(str) + '_' + extr.lon.astype(str) + '_0_0.jpg'\n",
    "extr['rot2'] = extr.folder + '/' + extr.lat.astype(str) + '_' + extr.lon.astype(str) + '_90_0.jpg'\n",
    "extr['rot3'] = extr.folder + '/' + extr.lat.astype(str) + '_' + extr.lon.astype(str) + '_180_0.jpg'\n",
    "extr['rot4'] = extr.folder + '/' + extr.lat.astype(str) + '_' + extr.lon.astype(str) + '_270_0.jpg'"
   ]
  },
  {
   "cell_type": "code",
   "execution_count": 37,
   "metadata": {},
   "outputs": [],
   "source": [
    "# export df of sampled images to csv\n",
    "extr.to_csv('rome_2000sampled_images.csv', index=False)"
   ]
  },
  {
   "cell_type": "markdown",
   "metadata": {},
   "source": [
    "## Kelly: copying sampled images to specific folder"
   ]
  },
  {
   "cell_type": "code",
   "execution_count": null,
   "metadata": {},
   "outputs": [],
   "source": [
    "import os\n",
    "from os import path\n",
    "import shutil"
   ]
  },
  {
   "cell_type": "code",
   "execution_count": null,
   "metadata": {},
   "outputs": [],
   "source": [
    "# read in list of sampled images\n",
    "extr = pd.read_csv('rome_sampled_images.csv')"
   ]
  },
  {
   "cell_type": "code",
   "execution_count": null,
   "metadata": {},
   "outputs": [],
   "source": [
    "# converting filenames to list\n",
    "files = sorted(extr.iloc[:, -4:].values.T.ravel().tolist())"
   ]
  },
  {
   "cell_type": "code",
   "execution_count": null,
   "metadata": {},
   "outputs": [],
   "source": [
    "# add your source/destination paths\n",
    "source = \"/your/source/dir/\"\n",
    "destination = \"/your/destination/dir/\""
   ]
  },
  {
   "cell_type": "code",
   "execution_count": null,
   "metadata": {},
   "outputs": [],
   "source": [
    "# copy images to destination folder, print error messages when cannot find image\n",
    "for f in files:\n",
    "    try:\n",
    "        shutil.copy(path.join(source, f), destination)\n",
    "    except FileNotFoundError as not_found:\n",
    "        print('CANNOT FIND: ', not_found.filename)"
   ]
  }
 ],
 "metadata": {
  "kernelspec": {
   "display_name": "Python 3",
   "language": "python",
   "name": "python3"
  },
  "language_info": {
   "codemirror_mode": {
    "name": "ipython",
    "version": 3
   },
   "file_extension": ".py",
   "mimetype": "text/x-python",
   "name": "python",
   "nbconvert_exporter": "python",
   "pygments_lexer": "ipython3",
   "version": "3.7.4"
  }
 },
 "nbformat": 4,
 "nbformat_minor": 2
}
