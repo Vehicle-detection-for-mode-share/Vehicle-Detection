{
 "cells": [
  {
   "cell_type": "code",
   "execution_count": 1,
   "metadata": {},
   "outputs": [],
   "source": [
    "import pandas as pd\n",
    "import geopy.distance\n",
    "import os\n",
    "from os import path\n",
    "import shutil"
   ]
  },
  {
   "cell_type": "markdown",
   "metadata": {},
   "source": [
    "## Data processing"
   ]
  },
  {
   "cell_type": "code",
   "execution_count": 2,
   "metadata": {},
   "outputs": [],
   "source": [
    "# read in city csv file\n",
    "city = pd.read_csv('Paris.csv')"
   ]
  },
  {
   "cell_type": "code",
   "execution_count": 3,
   "metadata": {
    "scrolled": true
   },
   "outputs": [],
   "source": [
    "# drop first columns\n",
    "city.drop(city.iloc[:, 0:2], inplace=True, axis=1)\n",
    "\n",
    "# drop date/time\n",
    "del city['V2']\n",
    "del city['V3']"
   ]
  },
  {
   "cell_type": "code",
   "execution_count": 4,
   "metadata": {},
   "outputs": [],
   "source": [
    "# add lat and lon columns to df\n",
    "city['lat'] = city.V4.str.split(\"_\", expand=True)[0]\n",
    "city['lon'] = city.V4.str.split(\"_\", expand=True)[1]"
   ]
  },
  {
   "cell_type": "code",
   "execution_count": 5,
   "metadata": {},
   "outputs": [
    {
     "data": {
      "text/html": [
       "<div>\n",
       "<style scoped>\n",
       "    .dataframe tbody tr th:only-of-type {\n",
       "        vertical-align: middle;\n",
       "    }\n",
       "\n",
       "    .dataframe tbody tr th {\n",
       "        vertical-align: top;\n",
       "    }\n",
       "\n",
       "    .dataframe thead th {\n",
       "        text-align: right;\n",
       "    }\n",
       "</style>\n",
       "<table border=\"1\" class=\"dataframe\">\n",
       "  <thead>\n",
       "    <tr style=\"text-align: right;\">\n",
       "      <th></th>\n",
       "      <th>V1</th>\n",
       "      <th>V4</th>\n",
       "      <th>lat</th>\n",
       "      <th>lon</th>\n",
       "    </tr>\n",
       "  </thead>\n",
       "  <tbody>\n",
       "    <tr>\n",
       "      <td>0</td>\n",
       "      <td>28526</td>\n",
       "      <td>48.9503188807609_2.0679242344190243_180_0.jpg</td>\n",
       "      <td>48.9503188807609</td>\n",
       "      <td>2.0679242344190243</td>\n",
       "    </tr>\n",
       "    <tr>\n",
       "      <td>1</td>\n",
       "      <td>32843</td>\n",
       "      <td>48.95115437952288_2.0663042176388444_270_0.jpg</td>\n",
       "      <td>48.95115437952288</td>\n",
       "      <td>2.0663042176388444</td>\n",
       "    </tr>\n",
       "    <tr>\n",
       "      <td>2</td>\n",
       "      <td>13724</td>\n",
       "      <td>48.95138626484626_2.065878108753509_0_90.jpg</td>\n",
       "      <td>48.95138626484626</td>\n",
       "      <td>2.065878108753509</td>\n",
       "    </tr>\n",
       "    <tr>\n",
       "      <td>3</td>\n",
       "      <td>32109</td>\n",
       "      <td>48.95036067749351_2.0654597799770045_0_270.jpg</td>\n",
       "      <td>48.95036067749351</td>\n",
       "      <td>2.0654597799770045</td>\n",
       "    </tr>\n",
       "    <tr>\n",
       "      <td>4</td>\n",
       "      <td>11731</td>\n",
       "      <td>48.95066072080098_2.0682293214905485_0_90.jpg</td>\n",
       "      <td>48.95066072080098</td>\n",
       "      <td>2.0682293214905485</td>\n",
       "    </tr>\n",
       "  </tbody>\n",
       "</table>\n",
       "</div>"
      ],
      "text/plain": [
       "      V1                                              V4                lat  \\\n",
       "0  28526   48.9503188807609_2.0679242344190243_180_0.jpg   48.9503188807609   \n",
       "1  32843  48.95115437952288_2.0663042176388444_270_0.jpg  48.95115437952288   \n",
       "2  13724    48.95138626484626_2.065878108753509_0_90.jpg  48.95138626484626   \n",
       "3  32109  48.95036067749351_2.0654597799770045_0_270.jpg  48.95036067749351   \n",
       "4  11731   48.95066072080098_2.0682293214905485_0_90.jpg  48.95066072080098   \n",
       "\n",
       "                  lon  \n",
       "0  2.0679242344190243  \n",
       "1  2.0663042176388444  \n",
       "2   2.065878108753509  \n",
       "3  2.0654597799770045  \n",
       "4  2.0682293214905485  "
      ]
     },
     "execution_count": 5,
     "metadata": {},
     "output_type": "execute_result"
    }
   ],
   "source": [
    "city.head()"
   ]
  },
  {
   "cell_type": "markdown",
   "metadata": {},
   "source": [
    "## Sampling\n",
    "\n",
    "Add remove out of bounds directly in sampling code (too long of a preprocessing step)"
   ]
  },
  {
   "cell_type": "code",
   "execution_count": 6,
   "metadata": {},
   "outputs": [],
   "source": [
    "# enter city info\n",
    "center_pt = (48.85, 2.35)\n",
    "radius = 13.78261445\n",
    "\n",
    "# enter required sample size\n",
    "sample_size = 10"
   ]
  },
  {
   "cell_type": "code",
   "execution_count": 7,
   "metadata": {},
   "outputs": [],
   "source": [
    "# create samples 1 and 2\n",
    "df = city.sample(n = 1)\n",
    "sam = city.sample(n = 1)\n",
    "\n",
    "for i in range(sample_size-1): \n",
    "    # condition is for over 100 meters and within city boundaries\n",
    "    while not ((df.apply(lambda row: geopy.distance.distance((float(row.lat), float(row.lon)), (float(sam.lat), float(sam.lon))).km > 0.1, axis=1).all()) and (geopy.distance.distance(center_pt, (float(sam.lat), float(sam.lon))).km < radius)):\n",
    "        sam = city.sample(n = 1)\n",
    "    else:\n",
    "        df = pd.concat([df, sam])"
   ]
  },
  {
   "cell_type": "code",
   "execution_count": 8,
   "metadata": {
    "scrolled": true
   },
   "outputs": [
    {
     "data": {
      "text/html": [
       "<div>\n",
       "<style scoped>\n",
       "    .dataframe tbody tr th:only-of-type {\n",
       "        vertical-align: middle;\n",
       "    }\n",
       "\n",
       "    .dataframe tbody tr th {\n",
       "        vertical-align: top;\n",
       "    }\n",
       "\n",
       "    .dataframe thead th {\n",
       "        text-align: right;\n",
       "    }\n",
       "</style>\n",
       "<table border=\"1\" class=\"dataframe\">\n",
       "  <thead>\n",
       "    <tr style=\"text-align: right;\">\n",
       "      <th></th>\n",
       "      <th>V1</th>\n",
       "      <th>V4</th>\n",
       "      <th>lat</th>\n",
       "      <th>lon</th>\n",
       "    </tr>\n",
       "  </thead>\n",
       "  <tbody>\n",
       "    <tr>\n",
       "      <td>426616</td>\n",
       "      <td>34660</td>\n",
       "      <td>48.89899618234978_2.1107108530319465_180_0.jpg</td>\n",
       "      <td>48.89899618234978</td>\n",
       "      <td>2.1107108530319465</td>\n",
       "    </tr>\n",
       "    <tr>\n",
       "      <td>3790588</td>\n",
       "      <td>63656</td>\n",
       "      <td>48.79417908749144_2.506929716870104_180_0.jpg</td>\n",
       "      <td>48.79417908749144</td>\n",
       "      <td>2.506929716870104</td>\n",
       "    </tr>\n",
       "    <tr>\n",
       "      <td>2220000</td>\n",
       "      <td>50861</td>\n",
       "      <td>48.87056259587693_2.4436010617713464_180_0.jpg</td>\n",
       "      <td>48.87056259587693</td>\n",
       "      <td>2.4436010617713464</td>\n",
       "    </tr>\n",
       "    <tr>\n",
       "      <td>1490411</td>\n",
       "      <td>42408</td>\n",
       "      <td>48.8452246498811_2.1845395320407306_270_0.jpg</td>\n",
       "      <td>48.8452246498811</td>\n",
       "      <td>2.1845395320407306</td>\n",
       "    </tr>\n",
       "    <tr>\n",
       "      <td>3724587</td>\n",
       "      <td>39347</td>\n",
       "      <td>48.79493063380667_2.5022425997951814_180_0.jpg</td>\n",
       "      <td>48.79493063380667</td>\n",
       "      <td>2.5022425997951814</td>\n",
       "    </tr>\n",
       "  </tbody>\n",
       "</table>\n",
       "</div>"
      ],
      "text/plain": [
       "            V1                                              V4  \\\n",
       "426616   34660  48.89899618234978_2.1107108530319465_180_0.jpg   \n",
       "3790588  63656   48.79417908749144_2.506929716870104_180_0.jpg   \n",
       "2220000  50861  48.87056259587693_2.4436010617713464_180_0.jpg   \n",
       "1490411  42408   48.8452246498811_2.1845395320407306_270_0.jpg   \n",
       "3724587  39347  48.79493063380667_2.5022425997951814_180_0.jpg   \n",
       "\n",
       "                       lat                 lon  \n",
       "426616   48.89899618234978  2.1107108530319465  \n",
       "3790588  48.79417908749144   2.506929716870104  \n",
       "2220000  48.87056259587693  2.4436010617713464  \n",
       "1490411   48.8452246498811  2.1845395320407306  \n",
       "3724587  48.79493063380667  2.5022425997951814  "
      ]
     },
     "execution_count": 8,
     "metadata": {},
     "output_type": "execute_result"
    }
   ],
   "source": [
    "df.head()"
   ]
  },
  {
   "cell_type": "markdown",
   "metadata": {},
   "source": [
    "## Print list of folders to download from Mediaflux"
   ]
  },
  {
   "cell_type": "code",
   "execution_count": 9,
   "metadata": {
    "scrolled": true
   },
   "outputs": [
    {
     "data": {
      "text/plain": [
       "[26115, 32730, 34660, 35452, 39347, 42408, 45007, 45302, 50861, 63656]"
      ]
     },
     "execution_count": 9,
     "metadata": {},
     "output_type": "execute_result"
    }
   ],
   "source": [
    "# print sorted list of folders to download\n",
    "download = sorted(df.V1.unique().tolist())\n",
    "download"
   ]
  },
  {
   "cell_type": "markdown",
   "metadata": {},
   "source": [
    "## Creating list of image names to extract "
   ]
  },
  {
   "cell_type": "code",
   "execution_count": 10,
   "metadata": {},
   "outputs": [],
   "source": [
    "# creating copy for extraction purposes\n",
    "extr = df.copy()\n",
    "\n",
    "# creating file paths for extraction\n",
    "extr['rot1'] = extr.V1.astype(str) + '/' + extr.lat.astype(str) + '_' + extr.lon.astype(str) + '_0_0.jpg'\n",
    "extr['rot2'] = extr.V1.astype(str) + '/' + extr.lat.astype(str) + '_' + extr.lon.astype(str) + '_90_0.jpg'\n",
    "extr['rot3'] = extr.V1.astype(str) + '/' + extr.lat.astype(str) + '_' + extr.lon.astype(str) + '_180_0.jpg'\n",
    "extr['rot4'] = extr.V1.astype(str) + '/' + extr.lat.astype(str) + '_' + extr.lon.astype(str) + '_270_0.jpg'"
   ]
  },
  {
   "cell_type": "code",
   "execution_count": 11,
   "metadata": {},
   "outputs": [],
   "source": [
    "# converting filenames to list\n",
    "files = sorted(extr.iloc[:, -4:].values.T.ravel().tolist())"
   ]
  },
  {
   "cell_type": "markdown",
   "metadata": {},
   "source": [
    "## Copying sampled images to specific folder"
   ]
  },
  {
   "cell_type": "code",
   "execution_count": null,
   "metadata": {},
   "outputs": [],
   "source": [
    "source = \"/User/GSV/Paris/\"\n",
    "destination = \"/User/GSV/model_test_images/\""
   ]
  },
  {
   "cell_type": "code",
   "execution_count": null,
   "metadata": {},
   "outputs": [],
   "source": [
    "for f in files:\n",
    "    shutil.copy(path.join(source, f), destination)"
   ]
  }
 ],
 "metadata": {
  "kernelspec": {
   "display_name": "Python 3",
   "language": "python",
   "name": "python3"
  },
  "language_info": {
   "codemirror_mode": {
    "name": "ipython",
    "version": 3
   },
   "file_extension": ".py",
   "mimetype": "text/x-python",
   "name": "python",
   "nbconvert_exporter": "python",
   "pygments_lexer": "ipython3",
   "version": "3.7.4"
  }
 },
 "nbformat": 4,
 "nbformat_minor": 2
}
