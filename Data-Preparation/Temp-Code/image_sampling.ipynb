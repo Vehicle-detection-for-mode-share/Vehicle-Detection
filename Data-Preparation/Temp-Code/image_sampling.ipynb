{
 "cells": [
  {
   "cell_type": "code",
   "execution_count": null,
   "metadata": {},
   "outputs": [],
   "source": [
    "import pandas as pd\n",
    "import geopy.distance\n",
    "import numpy as np"
   ]
  },
  {
   "cell_type": "markdown",
   "metadata": {},
   "source": [
    "## Data processing"
   ]
  },
  {
   "cell_type": "code",
   "execution_count": null,
   "metadata": {},
   "outputs": [],
   "source": [
    "# read in city csv file\n",
    "city = pd.read_csv('Rome.csv')"
   ]
  },
  {
   "cell_type": "code",
   "execution_count": null,
   "metadata": {},
   "outputs": [],
   "source": [
    "city.head()"
   ]
  },
  {
   "cell_type": "code",
   "execution_count": null,
   "metadata": {
    "scrolled": true
   },
   "outputs": [],
   "source": [
    "# drop useless cols\n",
    "del city['V1']\n",
    "del city['V2']\n",
    "del city['V3']"
   ]
  },
  {
   "cell_type": "code",
   "execution_count": null,
   "metadata": {},
   "outputs": [],
   "source": [
    "# deleting artefacts\n",
    "city = city[~city.V4.str.contains(\"type_whatever_weird_strings_might_appear_when_sampling\")]"
   ]
  },
  {
   "cell_type": "code",
   "execution_count": null,
   "metadata": {},
   "outputs": [],
   "source": [
    "# extract lat and lon\n",
    "city['lat'] = city.V4.str.split(\"_\", expand=True)[0]\n",
    "city['lon'] = city.V4.str.split(\"_\", expand=True)[1]\n",
    "\n",
    "# extract folder name\n",
    "city['folder'] = city.FileName.str.extract(r'(\\d+_\\d+)', expand = True)"
   ]
  },
  {
   "cell_type": "code",
   "execution_count": null,
   "metadata": {},
   "outputs": [],
   "source": [
    "# drop useless cols\n",
    "del city['FileName']\n",
    "del city['V4']"
   ]
  },
  {
   "cell_type": "code",
   "execution_count": null,
   "metadata": {},
   "outputs": [],
   "source": [
    "city.head()"
   ]
  },
  {
   "cell_type": "markdown",
   "metadata": {},
   "source": [
    "## Sampling"
   ]
  },
  {
   "cell_type": "code",
   "execution_count": null,
   "metadata": {},
   "outputs": [],
   "source": [
    "# enter city info\n",
    "center_pt = (41.89, 12.48)\n",
    "radius = 8.7451556\n",
    "\n",
    "# enter required sample size\n",
    "sample_size = 300"
   ]
  },
  {
   "cell_type": "code",
   "execution_count": null,
   "metadata": {},
   "outputs": [],
   "source": [
    "# create samples 1 and 2\n",
    "df = city.sample(n = 1)\n",
    "sam = city.sample(n = 1)\n",
    "\n",
    "for i in range(sample_size-1): \n",
    "    # condition is for over 100 meters and within city boundaries\n",
    "    while not ((df.apply(lambda row: geopy.distance.distance((float(row.lat), float(row.lon)), (float(sam.lat), float(sam.lon))).km > 0.1, axis=1).all()) and (geopy.distance.distance(center_pt, (float(sam.lat), float(sam.lon))).km < radius)):\n",
    "        sam = city.sample(n = 1)\n",
    "    else:\n",
    "        df = pd.concat([df, sam])"
   ]
  },
  {
   "cell_type": "code",
   "execution_count": null,
   "metadata": {
    "scrolled": true
   },
   "outputs": [],
   "source": [
    "df.head()"
   ]
  },
  {
   "cell_type": "markdown",
   "metadata": {},
   "source": [
    "## Print list of folders to download from Mediaflux"
   ]
  },
  {
   "cell_type": "code",
   "execution_count": null,
   "metadata": {
    "scrolled": true
   },
   "outputs": [],
   "source": [
    "# print sorted list of folders to download\n",
    "download = sorted(df.folder.unique().tolist())\n",
    "\n",
    "# convert to txt file\n",
    "np.savetxt('rome_folders.txt', download, delimiter=\"\\n\", fmt=\"%s\")"
   ]
  },
  {
   "cell_type": "markdown",
   "metadata": {},
   "source": [
    "## Creating list of image names to extract "
   ]
  },
  {
   "cell_type": "code",
   "execution_count": null,
   "metadata": {},
   "outputs": [],
   "source": [
    "# creating copy for extraction purposes\n",
    "extr = df.copy()\n",
    "\n",
    "# creating file paths for extraction\n",
    "extr['rot1'] = extr.folder + '/' + extr.lat.astype(str) + '_' + extr.lon.astype(str) + '_0_0.jpg'\n",
    "extr['rot2'] = extr.folder + '/' + extr.lat.astype(str) + '_' + extr.lon.astype(str) + '_90_0.jpg'\n",
    "extr['rot3'] = extr.folder + '/' + extr.lat.astype(str) + '_' + extr.lon.astype(str) + '_180_0.jpg'\n",
    "extr['rot4'] = extr.folder + '/' + extr.lat.astype(str) + '_' + extr.lon.astype(str) + '_270_0.jpg'"
   ]
  },
  {
   "cell_type": "code",
   "execution_count": null,
   "metadata": {},
   "outputs": [],
   "source": [
    "# export df of sampled images to csv\n",
    "extr.to_csv('rome_sampled_images.csv', index=False)"
   ]
  },
  {
   "cell_type": "markdown",
   "metadata": {},
   "source": [
    "## Kelly: copying sampled images to specific folder"
   ]
  },
  {
   "cell_type": "code",
   "execution_count": null,
   "metadata": {},
   "outputs": [],
   "source": [
    "import os\n",
    "from os import path\n",
    "import shutil"
   ]
  },
  {
   "cell_type": "code",
   "execution_count": null,
   "metadata": {},
   "outputs": [],
   "source": [
    "# read in list of sampled images\n",
    "extr = pd.read_csv('rome_sampled_images.csv')"
   ]
  },
  {
   "cell_type": "code",
   "execution_count": null,
   "metadata": {},
   "outputs": [],
   "source": [
    "# converting filenames to list\n",
    "files = sorted(extr.iloc[:, -4:].values.T.ravel().tolist())"
   ]
  },
  {
   "cell_type": "code",
   "execution_count": null,
   "metadata": {},
   "outputs": [],
   "source": [
    "# add your source/destination paths\n",
    "source = \"/your/source/dir/\"\n",
    "destination = \"/your/destination/dir/\""
   ]
  },
  {
   "cell_type": "code",
   "execution_count": null,
   "metadata": {},
   "outputs": [],
   "source": [
    "# copy images to destination folder, print error messages when cannot find image\n",
    "for f in files:\n",
    "    try:\n",
    "        shutil.copy(path.join(source, f), destination)\n",
    "    except FileNotFoundError as not_found:\n",
    "        print('CANNOT FIND: ', not_found.filename)"
   ]
  }
 ],
 "metadata": {
  "kernelspec": {
   "display_name": "Python 3",
   "language": "python",
   "name": "python3"
  },
  "language_info": {
   "codemirror_mode": {
    "name": "ipython",
    "version": 3
   },
   "file_extension": ".py",
   "mimetype": "text/x-python",
   "name": "python",
   "nbconvert_exporter": "python",
   "pygments_lexer": "ipython3",
   "version": "3.7.4"
  }
 },
 "nbformat": 4,
 "nbformat_minor": 2
}
